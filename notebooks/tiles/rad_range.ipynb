{
 "cells": [
  {
   "cell_type": "code",
   "execution_count": 1,
   "metadata": {},
   "outputs": [
    {
     "name": "stdout",
     "output_type": "stream",
     "text": [
      "/Users/Indhuja/Documents/GitHub/fcx-playground-backend/notebooks/tiles\n",
      "/opt/homebrew/Cellar/python@3.11/3.11.4_1/Frameworks/Python.framework/Versions/3.11/lib/python311.zip\n",
      "/opt/homebrew/Cellar/python@3.11/3.11.4_1/Frameworks/Python.framework/Versions/3.11/lib/python3.11\n",
      "/opt/homebrew/Cellar/python@3.11/3.11.4_1/Frameworks/Python.framework/Versions/3.11/lib/python3.11/lib-dynload\n",
      "\n",
      "/Users/Indhuja/Library/Python/3.11/lib/python/site-packages\n",
      "/opt/homebrew/lib/python3.11/site-packages\n",
      "../../src/\n"
     ]
    }
   ],
   "source": [
    "# for abstract modules exposure\n",
    "import sys\n",
    "\n",
    "sys.path.append(\"../../src/\")\n",
    "\n",
    "for line in sys.path:\n",
    "     print(line)"
   ]
  },
  {
   "cell_type": "code",
   "execution_count": 2,
   "metadata": {},
   "outputs": [],
   "source": [
    "from tiles.rad_range import RadRangeTilesPointCloudDataProcess"
   ]
  },
  {
   "cell_type": "code",
   "execution_count": 3,
   "metadata": {},
   "outputs": [],
   "source": [
    "obj = RadRangeTilesPointCloudDataProcess()"
   ]
  },
  {
   "cell_type": "code",
   "execution_count": 4,
   "metadata": {},
   "outputs": [],
   "source": [
    "data = obj.ingest()\n",
    "#'s3://ghrc-fcx-field-campaigns-szg/Olympex/instrument-raw-data/crs/olympex_CRS_20151110_172815-20151110_175946_2_v01a.nc'"
   ]
  },
  {
   "cell_type": "code",
   "execution_count": 5,
   "metadata": {},
   "outputs": [
    {
     "name": "stdout",
     "output_type": "stream",
     "text": [
      "\n",
      "*Processing data for band: W\n",
      " Original data points: 60599952\n",
      " In range data points: 20814381\n"
     ]
    }
   ],
   "source": [
    "cleaned_data, transformed_data, preprocessed_data = obj.preprocess(data)"
   ]
  },
  {
   "cell_type": "code",
   "execution_count": 6,
   "metadata": {},
   "outputs": [
    {
     "name": "stdout",
     "output_type": "stream",
     "text": [
      "Cleaned data: \n",
      "                time        lon        lat           alt      roll     pitch  \\\n",
      "0      1.582789e+09 -79.041451  33.575050  17774.000000  0.009045  0.560000   \n",
      "1      1.582789e+09 -79.040901  33.575375  17778.757812  0.020000  0.550000   \n",
      "2      1.582789e+09 -79.040344  33.575680  17779.099609  0.022700  0.522700   \n",
      "3      1.582789e+09 -79.039787  33.576015  17779.099609  0.030000  0.500000   \n",
      "4      1.582789e+09 -79.039581  33.576336  17779.099609  0.040000  0.460927   \n",
      "...             ...        ...        ...           ...       ...       ...   \n",
      "95881  1.582813e+09 -79.552612  34.417252  17933.300781 -0.400568 -5.970284   \n",
      "95882  1.582813e+09 -79.552826  34.416874  17933.300781 -0.362418 -5.952418   \n",
      "95883  1.582813e+09 -79.552696  34.416454  17913.099609 -0.320271 -5.970000   \n",
      "95884  1.582813e+09 -79.552910  34.416058  17913.099609 -0.319493 -6.039493   \n",
      "95885  1.582813e+09 -79.553123  34.415653  17913.099609 -0.359744 -6.089744   \n",
      "\n",
      "             head  \n",
      "0       48.570000  \n",
      "1       48.560001  \n",
      "2       48.549999  \n",
      "3       48.540001  \n",
      "4       48.529999  \n",
      "...           ...  \n",
      "95881 -160.000854  \n",
      "95882 -159.944839  \n",
      "95883 -159.880539  \n",
      "95884 -159.831009  \n",
      "95885 -159.780518  \n",
      "\n",
      "[95886 rows x 7 columns]\n",
      "Transformed data: \n",
      "                Time        lon        lat           alt\n",
      "0      1.582789e+09 -79.041853  33.574764  12760.489258\n",
      "0      1.582789e+09 -79.041856  33.574762  12734.240234\n",
      "0      1.582789e+09 -79.041858  33.574761  12707.992188\n",
      "0      1.582789e+09 -79.041860  33.574759  12681.743164\n",
      "0      1.582789e+09 -79.041862  33.574758  12655.494141\n",
      "...             ...        ...        ...           ...\n",
      "95885  1.582813e+09 -79.563103  34.396816  -3437.808594\n",
      "95885  1.582813e+09 -79.563115  34.396793  -3463.910156\n",
      "95885  1.582813e+09 -79.563127  34.396770  -3490.011719\n",
      "95885  1.582813e+09 -79.563139  34.396747  -3516.113281\n",
      "95885  1.582813e+09 -79.563151  34.396724  -3542.214844\n",
      "\n",
      "[60599952 rows x 4 columns]\n",
      "Preprocessed data: \n",
      " {'W':                   Time        lon        lat           alt       dBZe    Vel\n",
      "0         1.582789e+09 -79.041883  33.574743  12393.006836 -32.587471 -999.0\n",
      "1         1.582789e+09 -79.041896  33.574734  12235.514648 -32.918808 -999.0\n",
      "2         1.582789e+09 -79.041898  33.574732  12209.265625 -32.697296 -999.0\n",
      "3         1.582789e+09 -79.041961  33.574687  11421.802734 -31.147284 -999.0\n",
      "4         1.582789e+09 -79.041963  33.574686  11395.554688 -31.578123 -999.0\n",
      "...                ...        ...        ...           ...        ...    ...\n",
      "20814376  1.582813e+09 -79.561443  34.399948    111.976562  25.995935 -999.0\n",
      "20814377  1.582813e+09 -79.561456  34.399925     85.875000  28.602301 -999.0\n",
      "20814378  1.582813e+09 -79.561468  34.399902     59.773438  29.149000 -999.0\n",
      "20814379  1.582813e+09 -79.561480  34.399879     33.671875  27.388056 -999.0\n",
      "20814380  1.582813e+09 -79.561492  34.399856      7.570312  23.092859 -999.0\n",
      "\n",
      "[20814381 rows x 6 columns]}\n"
     ]
    }
   ],
   "source": [
    "print(\"Cleaned data: \\n\",cleaned_data)\n",
    "print(\"Transformed data: \\n\", transformed_data)\n",
    "print(\"Preprocessed data: \\n\", preprocessed_data)"
   ]
  },
  {
   "cell_type": "code",
   "execution_count": 7,
   "metadata": {},
   "outputs": [
    {
     "name": "stdout",
     "output_type": "stream",
     "text": [
      "\n",
      "*Processing data for band: W\n",
      "20814381 41\n",
      " Valid data points: 20814381\n",
      " -Making pointcloud tileset for dBZe\n",
      "/Users/Indhuja/Documents/IMPACTS_CRS//W_dBZe already exists\n",
      "2020-02-27T07:43:30Z\n"
     ]
    },
    {
     "name": "stderr",
     "output_type": "stream",
     "text": [
      "/Users/Indhuja/Documents/GitHub/fcx-playground-backend/notebooks/tiles/../../src/utils/tiles_point_cloud.py:260: FutureWarning: Setting an item of incompatible dtype is deprecated and will raise in a future error of pandas. Value '50.0001' has dtype incompatible with float32, please explicitly cast to a compatible dtype first.\n",
      "  vtop =  50  ; var[var >= vtop] = vtop + .0001\n",
      "/Users/Indhuja/Documents/GitHub/fcx-playground-backend/notebooks/tiles/../../src/utils/tiles_point_cloud.py:260: FutureWarning: Setting an item of incompatible dtype is deprecated and will raise in a future error of pandas. Value '50.0001' has dtype incompatible with float32, please explicitly cast to a compatible dtype first.\n",
      "  vtop =  50  ; var[var >= vtop] = vtop + .0001\n",
      "/Users/Indhuja/Documents/GitHub/fcx-playground-backend/notebooks/tiles/../../src/utils/tiles_point_cloud.py:261: FutureWarning: Setting an item of incompatible dtype is deprecated and will raise in a future error of pandas. Value '-25.0001' has dtype incompatible with float32, please explicitly cast to a compatible dtype first.\n",
      "  vbot = -25  ; var[var <= vbot] = vbot - .0001\n",
      "/Users/Indhuja/Documents/GitHub/fcx-playground-backend/notebooks/tiles/../../src/utils/tiles_point_cloud.py:261: FutureWarning: Setting an item of incompatible dtype is deprecated and will raise in a future error of pandas. Value '-25.0001' has dtype incompatible with float32, please explicitly cast to a compatible dtype first.\n",
      "  vbot = -25  ; var[var <= vbot] = vbot - .0001\n",
      "/Users/Indhuja/Documents/GitHub/fcx-playground-backend/notebooks/tiles/../../src/utils/tiles_point_cloud.py:261: FutureWarning: Setting an item of incompatible dtype is deprecated and will raise in a future error of pandas. Value '-25.0001' has dtype incompatible with float32, please explicitly cast to a compatible dtype first.\n",
      "  vbot = -25  ; var[var <= vbot] = vbot - .0001\n",
      "/Users/Indhuja/Documents/GitHub/fcx-playground-backend/notebooks/tiles/../../src/utils/tiles_point_cloud.py:261: FutureWarning: Setting an item of incompatible dtype is deprecated and will raise in a future error of pandas. Value '-25.0001' has dtype incompatible with float32, please explicitly cast to a compatible dtype first.\n",
      "  vbot = -25  ; var[var <= vbot] = vbot - .0001\n",
      "/Users/Indhuja/Documents/GitHub/fcx-playground-backend/notebooks/tiles/../../src/utils/tiles_point_cloud.py:261: FutureWarning: Setting an item of incompatible dtype is deprecated and will raise in a future error of pandas. Value '-25.0001' has dtype incompatible with float32, please explicitly cast to a compatible dtype first.\n",
      "  vbot = -25  ; var[var <= vbot] = vbot - .0001\n",
      "/Users/Indhuja/Documents/GitHub/fcx-playground-backend/notebooks/tiles/../../src/utils/tiles_point_cloud.py:261: FutureWarning: Setting an item of incompatible dtype is deprecated and will raise in a future error of pandas. Value '-25.0001' has dtype incompatible with float32, please explicitly cast to a compatible dtype first.\n",
      "  vbot = -25  ; var[var <= vbot] = vbot - .0001\n",
      "/Users/Indhuja/Documents/GitHub/fcx-playground-backend/notebooks/tiles/../../src/utils/tiles_point_cloud.py:261: FutureWarning: Setting an item of incompatible dtype is deprecated and will raise in a future error of pandas. Value '-25.0001' has dtype incompatible with float32, please explicitly cast to a compatible dtype first.\n",
      "  vbot = -25  ; var[var <= vbot] = vbot - .0001\n",
      "/Users/Indhuja/Documents/GitHub/fcx-playground-backend/notebooks/tiles/../../src/utils/tiles_point_cloud.py:261: FutureWarning: Setting an item of incompatible dtype is deprecated and will raise in a future error of pandas. Value '-25.0001' has dtype incompatible with float32, please explicitly cast to a compatible dtype first.\n",
      "  vbot = -25  ; var[var <= vbot] = vbot - .0001\n",
      "/Users/Indhuja/Documents/GitHub/fcx-playground-backend/notebooks/tiles/../../src/utils/tiles_point_cloud.py:261: FutureWarning: Setting an item of incompatible dtype is deprecated and will raise in a future error of pandas. Value '-25.0001' has dtype incompatible with float32, please explicitly cast to a compatible dtype first.\n",
      "  vbot = -25  ; var[var <= vbot] = vbot - .0001\n",
      "/Users/Indhuja/Documents/GitHub/fcx-playground-backend/notebooks/tiles/../../src/utils/tiles_point_cloud.py:261: FutureWarning: Setting an item of incompatible dtype is deprecated and will raise in a future error of pandas. Value '-25.0001' has dtype incompatible with float32, please explicitly cast to a compatible dtype first.\n",
      "  vbot = -25  ; var[var <= vbot] = vbot - .0001\n",
      "/Users/Indhuja/Documents/GitHub/fcx-playground-backend/notebooks/tiles/../../src/utils/tiles_point_cloud.py:261: FutureWarning: Setting an item of incompatible dtype is deprecated and will raise in a future error of pandas. Value '-25.0001' has dtype incompatible with float32, please explicitly cast to a compatible dtype first.\n",
      "  vbot = -25  ; var[var <= vbot] = vbot - .0001\n",
      "/Users/Indhuja/Documents/GitHub/fcx-playground-backend/notebooks/tiles/../../src/utils/tiles_point_cloud.py:261: FutureWarning: Setting an item of incompatible dtype is deprecated and will raise in a future error of pandas. Value '-25.0001' has dtype incompatible with float32, please explicitly cast to a compatible dtype first.\n",
      "  vbot = -25  ; var[var <= vbot] = vbot - .0001\n",
      "/Users/Indhuja/Documents/GitHub/fcx-playground-backend/notebooks/tiles/../../src/utils/tiles_point_cloud.py:261: FutureWarning: Setting an item of incompatible dtype is deprecated and will raise in a future error of pandas. Value '-25.0001' has dtype incompatible with float32, please explicitly cast to a compatible dtype first.\n",
      "  vbot = -25  ; var[var <= vbot] = vbot - .0001\n",
      "/Users/Indhuja/Documents/GitHub/fcx-playground-backend/notebooks/tiles/../../src/utils/tiles_point_cloud.py:260: FutureWarning: Setting an item of incompatible dtype is deprecated and will raise in a future error of pandas. Value '50.0001' has dtype incompatible with float32, please explicitly cast to a compatible dtype first.\n",
      "  vtop =  50  ; var[var >= vtop] = vtop + .0001\n",
      "/Users/Indhuja/Documents/GitHub/fcx-playground-backend/notebooks/tiles/../../src/utils/tiles_point_cloud.py:261: FutureWarning: Setting an item of incompatible dtype is deprecated and will raise in a future error of pandas. Value '-25.0001' has dtype incompatible with float32, please explicitly cast to a compatible dtype first.\n",
      "  vbot = -25  ; var[var <= vbot] = vbot - .0001\n",
      "/Users/Indhuja/Documents/GitHub/fcx-playground-backend/notebooks/tiles/../../src/utils/tiles_point_cloud.py:261: FutureWarning: Setting an item of incompatible dtype is deprecated and will raise in a future error of pandas. Value '-25.0001' has dtype incompatible with float32, please explicitly cast to a compatible dtype first.\n",
      "  vbot = -25  ; var[var <= vbot] = vbot - .0001\n",
      "/Users/Indhuja/Documents/GitHub/fcx-playground-backend/notebooks/tiles/../../src/utils/tiles_point_cloud.py:261: FutureWarning: Setting an item of incompatible dtype is deprecated and will raise in a future error of pandas. Value '-25.0001' has dtype incompatible with float32, please explicitly cast to a compatible dtype first.\n",
      "  vbot = -25  ; var[var <= vbot] = vbot - .0001\n",
      "/Users/Indhuja/Documents/GitHub/fcx-playground-backend/notebooks/tiles/../../src/utils/tiles_point_cloud.py:261: FutureWarning: Setting an item of incompatible dtype is deprecated and will raise in a future error of pandas. Value '-25.0001' has dtype incompatible with float32, please explicitly cast to a compatible dtype first.\n",
      "  vbot = -25  ; var[var <= vbot] = vbot - .0001\n",
      "/Users/Indhuja/Documents/GitHub/fcx-playground-backend/notebooks/tiles/../../src/utils/tiles_point_cloud.py:261: FutureWarning: Setting an item of incompatible dtype is deprecated and will raise in a future error of pandas. Value '-25.0001' has dtype incompatible with float32, please explicitly cast to a compatible dtype first.\n",
      "  vbot = -25  ; var[var <= vbot] = vbot - .0001\n",
      "/Users/Indhuja/Documents/GitHub/fcx-playground-backend/notebooks/tiles/../../src/utils/tiles_point_cloud.py:261: FutureWarning: Setting an item of incompatible dtype is deprecated and will raise in a future error of pandas. Value '-25.0001' has dtype incompatible with float32, please explicitly cast to a compatible dtype first.\n",
      "  vbot = -25  ; var[var <= vbot] = vbot - .0001\n",
      "/Users/Indhuja/Documents/GitHub/fcx-playground-backend/notebooks/tiles/../../src/utils/tiles_point_cloud.py:261: FutureWarning: Setting an item of incompatible dtype is deprecated and will raise in a future error of pandas. Value '-25.0001' has dtype incompatible with float32, please explicitly cast to a compatible dtype first.\n",
      "  vbot = -25  ; var[var <= vbot] = vbot - .0001\n",
      "/Users/Indhuja/Documents/GitHub/fcx-playground-backend/notebooks/tiles/../../src/utils/tiles_point_cloud.py:260: FutureWarning: Setting an item of incompatible dtype is deprecated and will raise in a future error of pandas. Value '50.0001' has dtype incompatible with float32, please explicitly cast to a compatible dtype first.\n",
      "  vtop =  50  ; var[var >= vtop] = vtop + .0001\n",
      "/Users/Indhuja/Documents/GitHub/fcx-playground-backend/notebooks/tiles/../../src/utils/tiles_point_cloud.py:261: FutureWarning: Setting an item of incompatible dtype is deprecated and will raise in a future error of pandas. Value '-25.0001' has dtype incompatible with float32, please explicitly cast to a compatible dtype first.\n",
      "  vbot = -25  ; var[var <= vbot] = vbot - .0001\n",
      "/Users/Indhuja/Documents/GitHub/fcx-playground-backend/notebooks/tiles/../../src/utils/tiles_point_cloud.py:261: FutureWarning: Setting an item of incompatible dtype is deprecated and will raise in a future error of pandas. Value '-25.0001' has dtype incompatible with float32, please explicitly cast to a compatible dtype first.\n",
      "  vbot = -25  ; var[var <= vbot] = vbot - .0001\n",
      "/Users/Indhuja/Documents/GitHub/fcx-playground-backend/notebooks/tiles/../../src/utils/tiles_point_cloud.py:261: FutureWarning: Setting an item of incompatible dtype is deprecated and will raise in a future error of pandas. Value '-25.0001' has dtype incompatible with float32, please explicitly cast to a compatible dtype first.\n",
      "  vbot = -25  ; var[var <= vbot] = vbot - .0001\n",
      "/Users/Indhuja/Documents/GitHub/fcx-playground-backend/notebooks/tiles/../../src/utils/tiles_point_cloud.py:261: FutureWarning: Setting an item of incompatible dtype is deprecated and will raise in a future error of pandas. Value '-25.0001' has dtype incompatible with float32, please explicitly cast to a compatible dtype first.\n",
      "  vbot = -25  ; var[var <= vbot] = vbot - .0001\n",
      "/Users/Indhuja/Documents/GitHub/fcx-playground-backend/notebooks/tiles/../../src/utils/tiles_point_cloud.py:261: FutureWarning: Setting an item of incompatible dtype is deprecated and will raise in a future error of pandas. Value '-25.0001' has dtype incompatible with float32, please explicitly cast to a compatible dtype first.\n",
      "  vbot = -25  ; var[var <= vbot] = vbot - .0001\n",
      "/Users/Indhuja/Documents/GitHub/fcx-playground-backend/notebooks/tiles/../../src/utils/tiles_point_cloud.py:261: FutureWarning: Setting an item of incompatible dtype is deprecated and will raise in a future error of pandas. Value '-25.0001' has dtype incompatible with float32, please explicitly cast to a compatible dtype first.\n",
      "  vbot = -25  ; var[var <= vbot] = vbot - .0001\n",
      "/Users/Indhuja/Documents/GitHub/fcx-playground-backend/notebooks/tiles/../../src/utils/tiles_point_cloud.py:261: FutureWarning: Setting an item of incompatible dtype is deprecated and will raise in a future error of pandas. Value '-25.0001' has dtype incompatible with float32, please explicitly cast to a compatible dtype first.\n",
      "  vbot = -25  ; var[var <= vbot] = vbot - .0001\n",
      "/Users/Indhuja/Documents/GitHub/fcx-playground-backend/notebooks/tiles/../../src/utils/tiles_point_cloud.py:261: FutureWarning: Setting an item of incompatible dtype is deprecated and will raise in a future error of pandas. Value '-25.0001' has dtype incompatible with float32, please explicitly cast to a compatible dtype first.\n",
      "  vbot = -25  ; var[var <= vbot] = vbot - .0001\n",
      "/Users/Indhuja/Documents/GitHub/fcx-playground-backend/notebooks/tiles/../../src/utils/tiles_point_cloud.py:261: FutureWarning: Setting an item of incompatible dtype is deprecated and will raise in a future error of pandas. Value '-25.0001' has dtype incompatible with float32, please explicitly cast to a compatible dtype first.\n",
      "  vbot = -25  ; var[var <= vbot] = vbot - .0001\n",
      "/Users/Indhuja/Documents/GitHub/fcx-playground-backend/notebooks/tiles/../../src/utils/tiles_point_cloud.py:261: FutureWarning: Setting an item of incompatible dtype is deprecated and will raise in a future error of pandas. Value '-25.0001' has dtype incompatible with float32, please explicitly cast to a compatible dtype first.\n",
      "  vbot = -25  ; var[var <= vbot] = vbot - .0001\n",
      "/Users/Indhuja/Documents/GitHub/fcx-playground-backend/notebooks/tiles/../../src/utils/tiles_point_cloud.py:261: FutureWarning: Setting an item of incompatible dtype is deprecated and will raise in a future error of pandas. Value '-25.0001' has dtype incompatible with float32, please explicitly cast to a compatible dtype first.\n",
      "  vbot = -25  ; var[var <= vbot] = vbot - .0001\n",
      "/Users/Indhuja/Documents/GitHub/fcx-playground-backend/notebooks/tiles/../../src/utils/tiles_point_cloud.py:261: FutureWarning: Setting an item of incompatible dtype is deprecated and will raise in a future error of pandas. Value '-25.0001' has dtype incompatible with float32, please explicitly cast to a compatible dtype first.\n",
      "  vbot = -25  ; var[var <= vbot] = vbot - .0001\n",
      "/Users/Indhuja/Documents/GitHub/fcx-playground-backend/notebooks/tiles/../../src/utils/tiles_point_cloud.py:261: FutureWarning: Setting an item of incompatible dtype is deprecated and will raise in a future error of pandas. Value '-25.0001' has dtype incompatible with float32, please explicitly cast to a compatible dtype first.\n",
      "  vbot = -25  ; var[var <= vbot] = vbot - .0001\n",
      "/Users/Indhuja/Documents/GitHub/fcx-playground-backend/notebooks/tiles/../../src/utils/tiles_point_cloud.py:260: FutureWarning: Setting an item of incompatible dtype is deprecated and will raise in a future error of pandas. Value '50.0001' has dtype incompatible with float32, please explicitly cast to a compatible dtype first.\n",
      "  vtop =  50  ; var[var >= vtop] = vtop + .0001\n",
      "/Users/Indhuja/Documents/GitHub/fcx-playground-backend/notebooks/tiles/../../src/utils/tiles_point_cloud.py:261: FutureWarning: Setting an item of incompatible dtype is deprecated and will raise in a future error of pandas. Value '-25.0001' has dtype incompatible with float32, please explicitly cast to a compatible dtype first.\n",
      "  vbot = -25  ; var[var <= vbot] = vbot - .0001\n",
      "/Users/Indhuja/Documents/GitHub/fcx-playground-backend/notebooks/tiles/../../src/utils/tiles_point_cloud.py:260: FutureWarning: Setting an item of incompatible dtype is deprecated and will raise in a future error of pandas. Value '50.0001' has dtype incompatible with float32, please explicitly cast to a compatible dtype first.\n",
      "  vtop =  50  ; var[var >= vtop] = vtop + .0001\n",
      "/Users/Indhuja/Documents/GitHub/fcx-playground-backend/notebooks/tiles/../../src/utils/tiles_point_cloud.py:260: FutureWarning: Setting an item of incompatible dtype is deprecated and will raise in a future error of pandas. Value '50.0001' has dtype incompatible with float32, please explicitly cast to a compatible dtype first.\n",
      "  vtop =  50  ; var[var >= vtop] = vtop + .0001\n",
      "/Users/Indhuja/Documents/GitHub/fcx-playground-backend/notebooks/tiles/../../src/utils/tiles_point_cloud.py:260: FutureWarning: Setting an item of incompatible dtype is deprecated and will raise in a future error of pandas. Value '50.0001' has dtype incompatible with float32, please explicitly cast to a compatible dtype first.\n",
      "  vtop =  50  ; var[var >= vtop] = vtop + .0001\n"
     ]
    },
    {
     "name": "stdout",
     "output_type": "stream",
     "text": [
      " -Making pointcloud tileset for Vel\n",
      "/Users/Indhuja/Documents/IMPACTS_CRS//W_Vel already exists\n",
      "2020-02-27T07:43:30Z\n"
     ]
    }
   ],
   "source": [
    "obj.prep_visualization(preprocessed_data)"
   ]
  }
 ],
 "metadata": {
  "kernelspec": {
   "display_name": "itsc-fcx-n",
   "language": "python",
   "name": "python3"
  },
  "language_info": {
   "codemirror_mode": {
    "name": "ipython",
    "version": 3
   },
   "file_extension": ".py",
   "mimetype": "text/x-python",
   "name": "python",
   "nbconvert_exporter": "python",
   "pygments_lexer": "ipython3",
   "version": "3.11.4"
  },
  "orig_nbformat": 4
 },
 "nbformat": 4,
 "nbformat_minor": 2
}
